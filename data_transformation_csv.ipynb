{
 "cells": [
  {
   "cell_type": "code",
   "execution_count": 90,
   "id": "b5409b10-232d-4431-b868-09c4927b92c5",
   "metadata": {},
   "outputs": [],
   "source": [
    "import pandas as pd\n",
    "import numpy as np\n",
    "import matplotlib.pyplot as plt"
   ]
  },
  {
   "cell_type": "code",
   "execution_count": 2,
   "id": "8de09576-7e10-4d1c-a1ee-2d18cab20ebc",
   "metadata": {},
   "outputs": [],
   "source": [
    "data=pd.read_csv(\"world_population_data.csv\")"
   ]
  },
  {
   "cell_type": "code",
   "execution_count": 3,
   "id": "d50ec0ce-02ec-4d5b-8904-df21d48f8734",
   "metadata": {},
   "outputs": [
    {
     "data": {
      "text/html": [
       "<div>\n",
       "<style scoped>\n",
       "    .dataframe tbody tr th:only-of-type {\n",
       "        vertical-align: middle;\n",
       "    }\n",
       "\n",
       "    .dataframe tbody tr th {\n",
       "        vertical-align: top;\n",
       "    }\n",
       "\n",
       "    .dataframe thead th {\n",
       "        text-align: right;\n",
       "    }\n",
       "</style>\n",
       "<table border=\"1\" class=\"dataframe\">\n",
       "  <thead>\n",
       "    <tr style=\"text-align: right;\">\n",
       "      <th></th>\n",
       "      <th>rank</th>\n",
       "      <th>cca3</th>\n",
       "      <th>country</th>\n",
       "      <th>continent</th>\n",
       "      <th>2023 population</th>\n",
       "      <th>2022 population</th>\n",
       "      <th>2020 population</th>\n",
       "      <th>2015 population</th>\n",
       "      <th>2010 population</th>\n",
       "      <th>2000 population</th>\n",
       "      <th>1990 population</th>\n",
       "      <th>1980 population</th>\n",
       "      <th>1970 population</th>\n",
       "      <th>area (km²)</th>\n",
       "      <th>density (km²)</th>\n",
       "      <th>growth rate</th>\n",
       "      <th>world percentage</th>\n",
       "    </tr>\n",
       "  </thead>\n",
       "  <tbody>\n",
       "    <tr>\n",
       "      <th>0</th>\n",
       "      <td>1</td>\n",
       "      <td>IND</td>\n",
       "      <td>India</td>\n",
       "      <td>Asia</td>\n",
       "      <td>1428627663</td>\n",
       "      <td>1417173173</td>\n",
       "      <td>1396387127</td>\n",
       "      <td>1322866505</td>\n",
       "      <td>1240613620</td>\n",
       "      <td>1059633675</td>\n",
       "      <td>870452165</td>\n",
       "      <td>696828385</td>\n",
       "      <td>557501301</td>\n",
       "      <td>3287590.00</td>\n",
       "      <td>481</td>\n",
       "      <td>0.81%</td>\n",
       "      <td>17.85%</td>\n",
       "    </tr>\n",
       "    <tr>\n",
       "      <th>1</th>\n",
       "      <td>2</td>\n",
       "      <td>CHN</td>\n",
       "      <td>China</td>\n",
       "      <td>Asia</td>\n",
       "      <td>1425671352</td>\n",
       "      <td>1425887337</td>\n",
       "      <td>1424929781</td>\n",
       "      <td>1393715448</td>\n",
       "      <td>1348191368</td>\n",
       "      <td>1264099069</td>\n",
       "      <td>1153704252</td>\n",
       "      <td>982372466</td>\n",
       "      <td>822534450</td>\n",
       "      <td>9706961.00</td>\n",
       "      <td>151</td>\n",
       "      <td>-0.02%</td>\n",
       "      <td>17.81%</td>\n",
       "    </tr>\n",
       "    <tr>\n",
       "      <th>2</th>\n",
       "      <td>3</td>\n",
       "      <td>USA</td>\n",
       "      <td>United States</td>\n",
       "      <td>North America</td>\n",
       "      <td>339996563</td>\n",
       "      <td>338289857</td>\n",
       "      <td>335942003</td>\n",
       "      <td>324607776</td>\n",
       "      <td>311182845</td>\n",
       "      <td>282398554</td>\n",
       "      <td>248083732</td>\n",
       "      <td>223140018</td>\n",
       "      <td>200328340</td>\n",
       "      <td>9372610.00</td>\n",
       "      <td>37</td>\n",
       "      <td>0.50%</td>\n",
       "      <td>4.25%</td>\n",
       "    </tr>\n",
       "    <tr>\n",
       "      <th>3</th>\n",
       "      <td>4</td>\n",
       "      <td>IDN</td>\n",
       "      <td>Indonesia</td>\n",
       "      <td>Asia</td>\n",
       "      <td>277534122</td>\n",
       "      <td>275501339</td>\n",
       "      <td>271857970</td>\n",
       "      <td>259091970</td>\n",
       "      <td>244016173</td>\n",
       "      <td>214072421</td>\n",
       "      <td>182159874</td>\n",
       "      <td>148177096</td>\n",
       "      <td>115228394</td>\n",
       "      <td>1904569.00</td>\n",
       "      <td>148</td>\n",
       "      <td>0.74%</td>\n",
       "      <td>3.47%</td>\n",
       "    </tr>\n",
       "    <tr>\n",
       "      <th>4</th>\n",
       "      <td>5</td>\n",
       "      <td>PAK</td>\n",
       "      <td>Pakistan</td>\n",
       "      <td>Asia</td>\n",
       "      <td>240485658</td>\n",
       "      <td>235824862</td>\n",
       "      <td>227196741</td>\n",
       "      <td>210969298</td>\n",
       "      <td>194454498</td>\n",
       "      <td>154369924</td>\n",
       "      <td>115414069</td>\n",
       "      <td>80624057</td>\n",
       "      <td>59290872</td>\n",
       "      <td>881912.00</td>\n",
       "      <td>312</td>\n",
       "      <td>1.98%</td>\n",
       "      <td>3.00%</td>\n",
       "    </tr>\n",
       "    <tr>\n",
       "      <th>...</th>\n",
       "      <td>...</td>\n",
       "      <td>...</td>\n",
       "      <td>...</td>\n",
       "      <td>...</td>\n",
       "      <td>...</td>\n",
       "      <td>...</td>\n",
       "      <td>...</td>\n",
       "      <td>...</td>\n",
       "      <td>...</td>\n",
       "      <td>...</td>\n",
       "      <td>...</td>\n",
       "      <td>...</td>\n",
       "      <td>...</td>\n",
       "      <td>...</td>\n",
       "      <td>...</td>\n",
       "      <td>...</td>\n",
       "      <td>...</td>\n",
       "    </tr>\n",
       "    <tr>\n",
       "      <th>229</th>\n",
       "      <td>230</td>\n",
       "      <td>MSR</td>\n",
       "      <td>Montserrat</td>\n",
       "      <td>North America</td>\n",
       "      <td>4386</td>\n",
       "      <td>4390</td>\n",
       "      <td>4500</td>\n",
       "      <td>5059</td>\n",
       "      <td>4938</td>\n",
       "      <td>5138</td>\n",
       "      <td>10805</td>\n",
       "      <td>11452</td>\n",
       "      <td>11402</td>\n",
       "      <td>102.00</td>\n",
       "      <td>43</td>\n",
       "      <td>-0.09%</td>\n",
       "      <td>0.00%</td>\n",
       "    </tr>\n",
       "    <tr>\n",
       "      <th>230</th>\n",
       "      <td>231</td>\n",
       "      <td>FLK</td>\n",
       "      <td>Falkland Islands</td>\n",
       "      <td>South America</td>\n",
       "      <td>3791</td>\n",
       "      <td>3780</td>\n",
       "      <td>3747</td>\n",
       "      <td>3408</td>\n",
       "      <td>3187</td>\n",
       "      <td>3080</td>\n",
       "      <td>2332</td>\n",
       "      <td>2240</td>\n",
       "      <td>2274</td>\n",
       "      <td>12173.00</td>\n",
       "      <td>0</td>\n",
       "      <td>0.29%</td>\n",
       "      <td>0.00%</td>\n",
       "    </tr>\n",
       "    <tr>\n",
       "      <th>231</th>\n",
       "      <td>232</td>\n",
       "      <td>NIU</td>\n",
       "      <td>Niue</td>\n",
       "      <td>Oceania</td>\n",
       "      <td>1935</td>\n",
       "      <td>1934</td>\n",
       "      <td>1942</td>\n",
       "      <td>1847</td>\n",
       "      <td>1812</td>\n",
       "      <td>2074</td>\n",
       "      <td>2533</td>\n",
       "      <td>3637</td>\n",
       "      <td>5185</td>\n",
       "      <td>261.00</td>\n",
       "      <td>7</td>\n",
       "      <td>0.05%</td>\n",
       "      <td>0.00%</td>\n",
       "    </tr>\n",
       "    <tr>\n",
       "      <th>232</th>\n",
       "      <td>233</td>\n",
       "      <td>TKL</td>\n",
       "      <td>Tokelau</td>\n",
       "      <td>Oceania</td>\n",
       "      <td>1893</td>\n",
       "      <td>1871</td>\n",
       "      <td>1827</td>\n",
       "      <td>1454</td>\n",
       "      <td>1367</td>\n",
       "      <td>1666</td>\n",
       "      <td>1669</td>\n",
       "      <td>1647</td>\n",
       "      <td>1714</td>\n",
       "      <td>12.00</td>\n",
       "      <td>189</td>\n",
       "      <td>1.18%</td>\n",
       "      <td>0.00%</td>\n",
       "    </tr>\n",
       "    <tr>\n",
       "      <th>233</th>\n",
       "      <td>234</td>\n",
       "      <td>VAT</td>\n",
       "      <td>Vatican City</td>\n",
       "      <td>Europe</td>\n",
       "      <td>518</td>\n",
       "      <td>510</td>\n",
       "      <td>520</td>\n",
       "      <td>564</td>\n",
       "      <td>596</td>\n",
       "      <td>651</td>\n",
       "      <td>700</td>\n",
       "      <td>733</td>\n",
       "      <td>752</td>\n",
       "      <td>0.44</td>\n",
       "      <td>1177</td>\n",
       "      <td>1.57%</td>\n",
       "      <td>0.00%</td>\n",
       "    </tr>\n",
       "  </tbody>\n",
       "</table>\n",
       "<p>234 rows × 17 columns</p>\n",
       "</div>"
      ],
      "text/plain": [
       "     rank cca3           country      continent  2023 population  \\\n",
       "0       1  IND             India           Asia       1428627663   \n",
       "1       2  CHN             China           Asia       1425671352   \n",
       "2       3  USA     United States  North America        339996563   \n",
       "3       4  IDN         Indonesia           Asia        277534122   \n",
       "4       5  PAK          Pakistan           Asia        240485658   \n",
       "..    ...  ...               ...            ...              ...   \n",
       "229   230  MSR        Montserrat  North America             4386   \n",
       "230   231  FLK  Falkland Islands  South America             3791   \n",
       "231   232  NIU              Niue        Oceania             1935   \n",
       "232   233  TKL           Tokelau        Oceania             1893   \n",
       "233   234  VAT      Vatican City         Europe              518   \n",
       "\n",
       "     2022 population  2020 population  2015 population  2010 population  \\\n",
       "0         1417173173       1396387127       1322866505       1240613620   \n",
       "1         1425887337       1424929781       1393715448       1348191368   \n",
       "2          338289857        335942003        324607776        311182845   \n",
       "3          275501339        271857970        259091970        244016173   \n",
       "4          235824862        227196741        210969298        194454498   \n",
       "..               ...              ...              ...              ...   \n",
       "229             4390             4500             5059             4938   \n",
       "230             3780             3747             3408             3187   \n",
       "231             1934             1942             1847             1812   \n",
       "232             1871             1827             1454             1367   \n",
       "233              510              520              564              596   \n",
       "\n",
       "     2000 population  1990 population  1980 population  1970 population  \\\n",
       "0         1059633675        870452165        696828385        557501301   \n",
       "1         1264099069       1153704252        982372466        822534450   \n",
       "2          282398554        248083732        223140018        200328340   \n",
       "3          214072421        182159874        148177096        115228394   \n",
       "4          154369924        115414069         80624057         59290872   \n",
       "..               ...              ...              ...              ...   \n",
       "229             5138            10805            11452            11402   \n",
       "230             3080             2332             2240             2274   \n",
       "231             2074             2533             3637             5185   \n",
       "232             1666             1669             1647             1714   \n",
       "233              651              700              733              752   \n",
       "\n",
       "     area (km²)  density (km²) growth rate world percentage  \n",
       "0    3287590.00            481       0.81%           17.85%  \n",
       "1    9706961.00            151      -0.02%           17.81%  \n",
       "2    9372610.00             37       0.50%            4.25%  \n",
       "3    1904569.00            148       0.74%            3.47%  \n",
       "4     881912.00            312       1.98%            3.00%  \n",
       "..          ...            ...         ...              ...  \n",
       "229      102.00             43      -0.09%            0.00%  \n",
       "230    12173.00              0       0.29%            0.00%  \n",
       "231      261.00              7       0.05%            0.00%  \n",
       "232       12.00            189       1.18%            0.00%  \n",
       "233        0.44           1177       1.57%            0.00%  \n",
       "\n",
       "[234 rows x 17 columns]"
      ]
     },
     "execution_count": 3,
     "metadata": {},
     "output_type": "execute_result"
    }
   ],
   "source": [
    "data"
   ]
  },
  {
   "cell_type": "code",
   "execution_count": 14,
   "id": "454c069e-7707-4956-b863-3394f927fafb",
   "metadata": {},
   "outputs": [
    {
     "name": "stdout",
     "output_type": "stream",
     "text": [
      "8043615390\n"
     ]
    }
   ],
   "source": [
    "sum_2023=0\n",
    "for i in range(len(data.index)):\n",
    "    sum_2023=data['2023 population'][i]+sum_2023\n",
    "print(sum_2023)"
   ]
  },
  {
   "cell_type": "code",
   "execution_count": 15,
   "id": "a287276c-a9b1-45d3-a9c4-a4a1fa9db10b",
   "metadata": {},
   "outputs": [
    {
     "name": "stdout",
     "output_type": "stream",
     "text": [
      "34374424.743589744\n"
     ]
    }
   ],
   "source": [
    "mean_2023=sum_2023/len(data.index)\n",
    "print(mean_2023)"
   ]
  },
  {
   "cell_type": "code",
   "execution_count": 16,
   "id": "c4080549-a0e8-42f3-8d17-9a295cc369c7",
   "metadata": {},
   "outputs": [
    {
     "name": "stdout",
     "output_type": "stream",
     "text": [
      "34374424.743589744\n"
     ]
    }
   ],
   "source": [
    "mean_2023 =np.mean(data['2023 population'])\n",
    "print(mean_2023)"
   ]
  },
  {
   "cell_type": "code",
   "execution_count": 32,
   "id": "3e91ca97-4892-447a-b19c-a5a084f6cddb",
   "metadata": {},
   "outputs": [],
   "source": [
    "pop_2023=[]\n",
    "pop_2023.append(data['2023 population'])"
   ]
  },
  {
   "cell_type": "code",
   "execution_count": 39,
   "id": "31e02f49-0e24-4083-b9f8-c81bccfc0cac",
   "metadata": {},
   "outputs": [
    {
     "data": {
      "text/plain": [
       "0      1428627663\n",
       "1      1425671352\n",
       "2       339996563\n",
       "3       277534122\n",
       "4       240485658\n",
       "          ...    \n",
       "229          4386\n",
       "230          3791\n",
       "231          1935\n",
       "232          1893\n",
       "233           518\n",
       "Name: 2023 population, Length: 234, dtype: int64"
      ]
     },
     "execution_count": 39,
     "metadata": {},
     "output_type": "execute_result"
    }
   ],
   "source": [
    "pop_2023[0]"
   ]
  },
  {
   "cell_type": "code",
   "execution_count": 74,
   "id": "94e88316-d669-4d0c-afea-e4a0cc1caae7",
   "metadata": {},
   "outputs": [],
   "source": [
    "mid_value=int(len(pop_2023[0])/2)\n",
    "if (mid_value%2!=0):\n",
    "    med_2023=(pop_2023[0][mid_value]+pop_2023[0][mid_value-1])/2    \n",
    "else:\n",
    "    med_2023=pop_2023[0][mid_value]"
   ]
  },
  {
   "cell_type": "code",
   "execution_count": 75,
   "id": "befa372f-c6bd-4aa8-bd37-402a2a9e1e40",
   "metadata": {},
   "outputs": [
    {
     "data": {
      "text/plain": [
       "5643895.0"
      ]
     },
     "execution_count": 75,
     "metadata": {},
     "output_type": "execute_result"
    }
   ],
   "source": [
    "med_2023"
   ]
  },
  {
   "cell_type": "code",
   "execution_count": 76,
   "id": "dea705ce-3a16-4fce-a88b-6b9d54e04bfa",
   "metadata": {},
   "outputs": [],
   "source": [
    "med_2023=np.median(data['2023 population'])"
   ]
  },
  {
   "cell_type": "code",
   "execution_count": 77,
   "id": "9c7b83dd-813d-4f00-8b36-8e36ac6e4578",
   "metadata": {},
   "outputs": [
    {
     "data": {
      "text/plain": [
       "5643895.0"
      ]
     },
     "execution_count": 77,
     "metadata": {},
     "output_type": "execute_result"
    }
   ],
   "source": [
    "med_2023"
   ]
  },
  {
   "cell_type": "code",
   "execution_count": 86,
   "id": "459917c3-4016-4bf8-a224-dccaf87a216f",
   "metadata": {},
   "outputs": [
    {
     "data": {
      "text/plain": [
       "{1428627663: 1,\n",
       " 981796: 1,\n",
       " 2119675: 1,\n",
       " 2085679: 1,\n",
       " 1830211: 1,\n",
       " 1714671: 1,\n",
       " 1534937: 1,\n",
       " 1485509: 1,\n",
       " 1360596: 1,\n",
       " 1322765: 1,\n",
       " 1300557: 1,\n",
       " 1260138: 1,\n",
       " 1210822: 1,\n",
       " 1136455: 1,\n",
       " 936375: 1,\n",
       " 412623: 1,\n",
       " 852075: 1,\n",
       " 813834: 1,\n",
       " 787424: 1,\n",
       " 740424: 1,\n",
       " 704149: 1,\n",
       " 654768: 1,\n",
       " 626485: 1,\n",
       " 623236: 1,\n",
       " 598682: 1,\n",
       " 587259: 1,\n",
       " 535064: 1,\n",
       " 521021: 1,\n",
       " 2150842: 1,\n",
       " 2330318: 1,\n",
       " 2436566: 1,\n",
       " 2604172: 1,\n",
       " 5418377: 1,\n",
       " 5371230: 1,\n",
       " 5353930: 1,\n",
       " 5228100: 1,\n",
       " 5212173: 1,\n",
       " 5056935: 1,\n",
       " 4862989: 1,\n",
       " 4644384: 1,\n",
       " 4468087: 1,\n",
       " 4310108: 1,\n",
       " 4008617: 1,\n",
       " 3748901: 1,\n",
       " 3728282: 1,\n",
       " 3447157: 1,\n",
       " 3435931: 1,\n",
       " 3423108: 1,\n",
       " 3260314: 1,\n",
       " 3210847: 1,\n",
       " 2832439: 1,\n",
       " 2825544: 1,\n",
       " 2777970: 1,\n",
       " 2773168: 1,\n",
       " 2718352: 1,\n",
       " 2716391: 1,\n",
       " 2675352: 1,\n",
       " 452524: 1,\n",
       " 410825: 1,\n",
       " 1425671352: 1,\n",
       " 32077: 1,\n",
       " 56643: 1,\n",
       " 53270: 1,\n",
       " 49796: 1,\n",
       " 47755: 1,\n",
       " 46062: 1,\n",
       " 44222: 1,\n",
       " 43914: 1,\n",
       " 41996: 1,\n",
       " 39584: 1,\n",
       " 36297: 1,\n",
       " 33642: 1,\n",
       " 32688: 1,\n",
       " 31538: 1,\n",
       " 395839: 1,\n",
       " 18058: 1,\n",
       " 17044: 1,\n",
       " 15899: 1,\n",
       " 12780: 1,\n",
       " 11502: 1,\n",
       " 11396: 1,\n",
       " 10994: 1,\n",
       " 5840: 1,\n",
       " 4386: 1,\n",
       " 3791: 1,\n",
       " 1935: 1,\n",
       " 1893: 1,\n",
       " 63544: 1,\n",
       " 64069: 1,\n",
       " 69310: 1,\n",
       " 73040: 1,\n",
       " 375318: 1,\n",
       " 366981: 1,\n",
       " 335995: 1,\n",
       " 334506: 1,\n",
       " 312155: 1,\n",
       " 308872: 1,\n",
       " 292991: 1,\n",
       " 281995: 1,\n",
       " 231856: 1,\n",
       " 225681: 1,\n",
       " 192077: 1,\n",
       " 180251: 1,\n",
       " 172952: 1,\n",
       " 133515: 1,\n",
       " 126183: 1,\n",
       " 115224: 1,\n",
       " 111802: 1,\n",
       " 107773: 1,\n",
       " 107660: 1,\n",
       " 106277: 1,\n",
       " 103698: 1,\n",
       " 98750: 1,\n",
       " 94298: 1,\n",
       " 84710: 1,\n",
       " 80088: 1,\n",
       " 5474360: 1,\n",
       " 5545475: 1,\n",
       " 5742315: 1,\n",
       " 34449825: 1,\n",
       " 47519628: 1,\n",
       " 45773884: 1,\n",
       " 45606480: 1,\n",
       " 45504560: 1,\n",
       " 42239854: 1,\n",
       " 41026067: 1,\n",
       " 38781291: 1,\n",
       " 37840044: 1,\n",
       " 36947025: 1,\n",
       " 36744634: 1,\n",
       " 36684202: 1,\n",
       " 35163944: 1,\n",
       " 34352719: 1,\n",
       " 5795199: 1,\n",
       " 34308525: 1,\n",
       " 34121985: 1,\n",
       " 33897354: 1,\n",
       " 30896590: 1,\n",
       " 30325732: 1,\n",
       " 28873034: 1,\n",
       " 28838499: 1,\n",
       " 28647293: 1,\n",
       " 27202843: 1,\n",
       " 26439111: 1,\n",
       " 26160821: 1,\n",
       " 23923276: 1,\n",
       " 48109006: 1,\n",
       " 48582334: 1,\n",
       " 51784059: 1,\n",
       " 52085168: 1,\n",
       " 339996563: 1,\n",
       " 277534122: 1,\n",
       " 240485658: 1,\n",
       " 223804632: 1,\n",
       " 216422446: 1,\n",
       " 172954319: 1,\n",
       " 144444359: 1,\n",
       " 128455567: 1,\n",
       " 126527060: 1,\n",
       " 123294513: 1,\n",
       " 117337368: 1,\n",
       " 112716598: 1,\n",
       " 102262808: 1,\n",
       " 98858950: 1,\n",
       " 89172767: 1,\n",
       " 85816199: 1,\n",
       " 83294633: 1,\n",
       " 71801279: 1,\n",
       " 67736802: 1,\n",
       " 67438106: 1,\n",
       " 64756584: 1,\n",
       " 60414495: 1,\n",
       " 58870762: 1,\n",
       " 55100586: 1,\n",
       " 54577997: 1,\n",
       " 23293698: 1,\n",
       " 23251485: 1,\n",
       " 23227014: 1,\n",
       " 10495295: 1,\n",
       " 10341277: 1,\n",
       " 10329931: 1,\n",
       " 10247605: 1,\n",
       " 10156239: 1,\n",
       " 10143543: 1,\n",
       " 9516871: 1,\n",
       " 9498238: 1,\n",
       " 9174520: 1,\n",
       " 9053799: 1,\n",
       " 8958960: 1,\n",
       " 8796669: 1,\n",
       " 8791092: 1,\n",
       " 7633779: 1,\n",
       " 7491609: 1,\n",
       " 7149077: 1,\n",
       " 7046310: 1,\n",
       " 6888388: 1,\n",
       " 6861524: 1,\n",
       " 6735347: 1,\n",
       " 6687717: 1,\n",
       " 6516100: 1,\n",
       " 6364943: 1,\n",
       " 6106869: 1,\n",
       " 6014723: 1,\n",
       " 5910913: 1,\n",
       " 10412651: 1,\n",
       " 10593798: 1,\n",
       " 21893579: 1,\n",
       " 10612086: 1,\n",
       " 20931751: 1,\n",
       " 20569737: 1,\n",
       " 19892812: 1,\n",
       " 19629590: 1,\n",
       " 19606633: 1,\n",
       " 18278568: 1,\n",
       " 18190484: 1,\n",
       " 18143378: 1,\n",
       " 18092026: 1,\n",
       " 17763163: 1,\n",
       " 17618299: 1,\n",
       " 16944826: 1,\n",
       " 16665409: 1,\n",
       " 14190612: 1,\n",
       " 14094683: 1,\n",
       " 13712828: 1,\n",
       " 13238559: 1,\n",
       " 12458223: 1,\n",
       " 12388571: 1,\n",
       " 11724763: 1,\n",
       " 11686140: 1,\n",
       " 11337052: 1,\n",
       " 11332972: 1,\n",
       " 11194449: 1,\n",
       " 11088796: 1,\n",
       " 518: 1}"
      ]
     },
     "execution_count": 86,
     "metadata": {},
     "output_type": "execute_result"
    }
   ],
   "source": [
    "data['2023 population'].value_counts().to_dict()"
   ]
  },
  {
   "cell_type": "markdown",
   "id": "898d4529-a7f0-4f7a-87b4-99a7dbf413b8",
   "metadata": {},
   "source": [
    "Cannot find mode for this population dataset because all the data are unique"
   ]
  },
  {
   "cell_type": "code",
   "execution_count": 113,
   "id": "d87947cc-a67a-4d2e-ab9c-8658230da017",
   "metadata": {},
   "outputs": [
    {
     "data": {
      "text/plain": [
       "<matplotlib.collections.PathCollection at 0x7f9ce634f3d0>"
      ]
     },
     "execution_count": 113,
     "metadata": {},
     "output_type": "execute_result"
    },
    {
     "data": {
      "image/png": "[encoded data removed]",
      "text/plain": [
       "<Figure size 640x480 with 1 Axes>"
      ]
     },
     "metadata": {},
     "output_type": "display_data"
    }
   ],
   "source": [
    "plt.scatter(data['cca3'][0:10], (data['2023 population'][0:10]))"
   ]
  },
  {
   "cell_type": "code",
   "execution_count": 162,
   "id": "0b7dae57-aa7d-4561-97b6-8f0eb45ca2fc",
   "metadata": {},
   "outputs": [],
   "source": [
    "d1 = pd.DataFrame({2023: data['2023 population'], 'mean':0})"
   ]
  },
  {
   "cell_type": "code",
   "execution_count": 177,
   "id": "a08cf8cf-0f2c-427e-ba01-1c45376ac291",
   "metadata": {
    "scrolled": true
   },
   "outputs": [],
   "source": [
    "for i in range(len(d1.index)):\n",
    "    d1[\"mean\"][i] =(d1[2023][i]-mean_2023)**2"
   ]
  },
  {
   "cell_type": "code",
   "execution_count": 178,
   "id": "2f1662d0-8bf2-4289-83a0-b080d5aac860",
   "metadata": {},
   "outputs": [
    {
     "data": {
      "text/html": [
       "<div>\n",
       "<style scoped>\n",
       "    .dataframe tbody tr th:only-of-type {\n",
       "        vertical-align: middle;\n",
       "    }\n",
       "\n",
       "    .dataframe tbody tr th {\n",
       "        vertical-align: top;\n",
       "    }\n",
       "\n",
       "    .dataframe thead th {\n",
       "        text-align: right;\n",
       "    }\n",
       "</style>\n",
       "<table border=\"1\" class=\"dataframe\">\n",
       "  <thead>\n",
       "    <tr style=\"text-align: right;\">\n",
       "      <th></th>\n",
       "      <th>2023</th>\n",
       "      <th>mean</th>\n",
       "    </tr>\n",
       "  </thead>\n",
       "  <tbody>\n",
       "    <tr>\n",
       "      <th>0</th>\n",
       "      <td>1428627663</td>\n",
       "      <td>1.943942e+18</td>\n",
       "    </tr>\n",
       "    <tr>\n",
       "      <th>1</th>\n",
       "      <td>1425671352</td>\n",
       "      <td>1.935707e+18</td>\n",
       "    </tr>\n",
       "    <tr>\n",
       "      <th>2</th>\n",
       "      <td>339996563</td>\n",
       "      <td>9.340489e+16</td>\n",
       "    </tr>\n",
       "    <tr>\n",
       "      <th>3</th>\n",
       "      <td>277534122</td>\n",
       "      <td>5.912664e+16</td>\n",
       "    </tr>\n",
       "    <tr>\n",
       "      <th>4</th>\n",
       "      <td>240485658</td>\n",
       "      <td>4.248184e+16</td>\n",
       "    </tr>\n",
       "    <tr>\n",
       "      <th>...</th>\n",
       "      <td>...</td>\n",
       "      <td>...</td>\n",
       "    </tr>\n",
       "    <tr>\n",
       "      <th>229</th>\n",
       "      <td>4386</td>\n",
       "      <td>1.181300e+15</td>\n",
       "    </tr>\n",
       "    <tr>\n",
       "      <th>230</th>\n",
       "      <td>3791</td>\n",
       "      <td>1.181340e+15</td>\n",
       "    </tr>\n",
       "    <tr>\n",
       "      <th>231</th>\n",
       "      <td>1935</td>\n",
       "      <td>1.181468e+15</td>\n",
       "    </tr>\n",
       "    <tr>\n",
       "      <th>232</th>\n",
       "      <td>1893</td>\n",
       "      <td>1.181471e+15</td>\n",
       "    </tr>\n",
       "    <tr>\n",
       "      <th>233</th>\n",
       "      <td>518</td>\n",
       "      <td>1.181565e+15</td>\n",
       "    </tr>\n",
       "  </tbody>\n",
       "</table>\n",
       "<p>234 rows × 2 columns</p>\n",
       "</div>"
      ],
      "text/plain": [
       "           2023          mean\n",
       "0    1428627663  1.943942e+18\n",
       "1    1425671352  1.935707e+18\n",
       "2     339996563  9.340489e+16\n",
       "3     277534122  5.912664e+16\n",
       "4     240485658  4.248184e+16\n",
       "..          ...           ...\n",
       "229        4386  1.181300e+15\n",
       "230        3791  1.181340e+15\n",
       "231        1935  1.181468e+15\n",
       "232        1893  1.181471e+15\n",
       "233         518  1.181565e+15\n",
       "\n",
       "[234 rows x 2 columns]"
      ]
     },
     "execution_count": 178,
     "metadata": {},
     "output_type": "execute_result"
    }
   ],
   "source": [
    "d1"
   ]
  },
  {
   "cell_type": "code",
   "execution_count": 179,
   "id": "a769d4d3-50f7-41b7-a23f-ff1c00e3e33f",
   "metadata": {},
   "outputs": [],
   "source": [
    "variance_2023= (sum(d1['mean']))/len(d1.index)"
   ]
  },
  {
   "cell_type": "code",
   "execution_count": 181,
   "id": "8c69f658-113b-415b-a7bf-476697b647ea",
   "metadata": {},
   "outputs": [
    {
     "data": {
      "text/plain": [
       "1.879436194531637e+16"
      ]
     },
     "execution_count": 181,
     "metadata": {},
     "output_type": "execute_result"
    }
   ],
   "source": [
    "variance_2023"
   ]
  },
  {
   "cell_type": "code",
   "execution_count": 190,
   "id": "e1325f4a-5c43-40d2-9f20-0581134e4224",
   "metadata": {
    "scrolled": true
   },
   "outputs": [
    {
     "data": {
      "text/plain": [
       "1.879436194531637e+16"
      ]
     },
     "execution_count": 190,
     "metadata": {},
     "output_type": "execute_result"
    }
   ],
   "source": [
    "np.var(d1[2023])"
   ]
  },
  {
   "cell_type": "code",
   "execution_count": 182,
   "id": "8f247923-84f8-4110-ad8e-a3aac3c913ed",
   "metadata": {},
   "outputs": [
    {
     "data": {
      "text/plain": [
       "137092530.596369"
      ]
     },
     "execution_count": 182,
     "metadata": {},
     "output_type": "execute_result"
    }
   ],
   "source": [
    "np.sqrt(variance_2023)"
   ]
  },
  {
   "cell_type": "code",
   "execution_count": 185,
   "id": "6058c31a-4a67-4318-a9ef-b92bf2f16f6e",
   "metadata": {},
   "outputs": [
    {
     "data": {
      "text/plain": [
       "137092530.596369"
      ]
     },
     "execution_count": 185,
     "metadata": {},
     "output_type": "execute_result"
    }
   ],
   "source": [
    "np.std(d1[2023])"
   ]
  }
 ],
 "metadata": {
  "kernelspec": {
   "display_name": "Python 3 (ipykernel)",
   "language": "python",
   "name": "python3"
  },
  "language_info": {
   "codemirror_mode": {
    "name": "ipython",
    "version": 3
   },
   "file_extension": ".py",
   "mimetype": "text/x-python",
   "name": "python",
   "nbconvert_exporter": "python",
   "pygments_lexer": "ipython3",
   "version": "3.10.12"
  }
 },
 "nbformat": 4,
 "nbformat_minor": 5
}
